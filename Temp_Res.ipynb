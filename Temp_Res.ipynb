{
  "nbformat": 4,
  "nbformat_minor": 0,
  "metadata": {
    "colab": {
      "provenance": [],
      "authorship_tag": "ABX9TyNbkldZC87PjNhIbtkJmq20",
      "include_colab_link": true
    },
    "kernelspec": {
      "name": "python3",
      "display_name": "Python 3"
    },
    "language_info": {
      "name": "python"
    }
  },
  "cells": [
    {
      "cell_type": "markdown",
      "metadata": {
        "id": "view-in-github",
        "colab_type": "text"
      },
      "source": [
        "<a href=\"https://colab.research.google.com/github/harbidel/Temperature---Resistance-using-Neural-Network/blob/main/Temp_Res.ipynb\" target=\"_parent\"><img src=\"https://colab.research.google.com/assets/colab-badge.svg\" alt=\"Open In Colab\"/></a>"
      ]
    },
    {
      "cell_type": "code",
      "execution_count": 1,
      "metadata": {
        "id": "M3x7XO6rjJAZ"
      },
      "outputs": [],
      "source": [
        "import numpy as np\n",
        "import tensorflow as tf\n",
        "import pandas as pd\n"
      ]
    },
    {
      "cell_type": "code",
      "source": [
        "data = pd.read_excel('/content/Thermistor data set.xlsx') \n",
        "data.head()"
      ],
      "metadata": {
        "colab": {
          "base_uri": "https://localhost:8080/",
          "height": 206
        },
        "id": "D7aOmG2DjvYi",
        "outputId": "c26020ed-aa9c-4747-f940-12c858edefca"
      },
      "execution_count": 2,
      "outputs": [
        {
          "output_type": "execute_result",
          "data": {
            "text/plain": [
              "    T      R        Tth       Vth\n",
              "0 -50  329.5 -44.332497  0.147275\n",
              "1 -45  247.7 -39.904572  0.194024\n",
              "2 -40  188.5 -35.502895  0.251889\n",
              "3 -35  144.1 -31.009028  0.324465\n",
              "4 -30  111.3 -26.524332  0.412201"
            ],
            "text/html": [
              "\n",
              "  <div id=\"df-cc7c7ee3-51a9-4377-a5ec-1c4d11c52ffc\">\n",
              "    <div class=\"colab-df-container\">\n",
              "      <div>\n",
              "<style scoped>\n",
              "    .dataframe tbody tr th:only-of-type {\n",
              "        vertical-align: middle;\n",
              "    }\n",
              "\n",
              "    .dataframe tbody tr th {\n",
              "        vertical-align: top;\n",
              "    }\n",
              "\n",
              "    .dataframe thead th {\n",
              "        text-align: right;\n",
              "    }\n",
              "</style>\n",
              "<table border=\"1\" class=\"dataframe\">\n",
              "  <thead>\n",
              "    <tr style=\"text-align: right;\">\n",
              "      <th></th>\n",
              "      <th>T</th>\n",
              "      <th>R</th>\n",
              "      <th>Tth</th>\n",
              "      <th>Vth</th>\n",
              "    </tr>\n",
              "  </thead>\n",
              "  <tbody>\n",
              "    <tr>\n",
              "      <th>0</th>\n",
              "      <td>-50</td>\n",
              "      <td>329.5</td>\n",
              "      <td>-44.332497</td>\n",
              "      <td>0.147275</td>\n",
              "    </tr>\n",
              "    <tr>\n",
              "      <th>1</th>\n",
              "      <td>-45</td>\n",
              "      <td>247.7</td>\n",
              "      <td>-39.904572</td>\n",
              "      <td>0.194024</td>\n",
              "    </tr>\n",
              "    <tr>\n",
              "      <th>2</th>\n",
              "      <td>-40</td>\n",
              "      <td>188.5</td>\n",
              "      <td>-35.502895</td>\n",
              "      <td>0.251889</td>\n",
              "    </tr>\n",
              "    <tr>\n",
              "      <th>3</th>\n",
              "      <td>-35</td>\n",
              "      <td>144.1</td>\n",
              "      <td>-31.009028</td>\n",
              "      <td>0.324465</td>\n",
              "    </tr>\n",
              "    <tr>\n",
              "      <th>4</th>\n",
              "      <td>-30</td>\n",
              "      <td>111.3</td>\n",
              "      <td>-26.524332</td>\n",
              "      <td>0.412201</td>\n",
              "    </tr>\n",
              "  </tbody>\n",
              "</table>\n",
              "</div>\n",
              "      <button class=\"colab-df-convert\" onclick=\"convertToInteractive('df-cc7c7ee3-51a9-4377-a5ec-1c4d11c52ffc')\"\n",
              "              title=\"Convert this dataframe to an interactive table.\"\n",
              "              style=\"display:none;\">\n",
              "        \n",
              "  <svg xmlns=\"http://www.w3.org/2000/svg\" height=\"24px\"viewBox=\"0 0 24 24\"\n",
              "       width=\"24px\">\n",
              "    <path d=\"M0 0h24v24H0V0z\" fill=\"none\"/>\n",
              "    <path d=\"M18.56 5.44l.94 2.06.94-2.06 2.06-.94-2.06-.94-.94-2.06-.94 2.06-2.06.94zm-11 1L8.5 8.5l.94-2.06 2.06-.94-2.06-.94L8.5 2.5l-.94 2.06-2.06.94zm10 10l.94 2.06.94-2.06 2.06-.94-2.06-.94-.94-2.06-.94 2.06-2.06.94z\"/><path d=\"M17.41 7.96l-1.37-1.37c-.4-.4-.92-.59-1.43-.59-.52 0-1.04.2-1.43.59L10.3 9.45l-7.72 7.72c-.78.78-.78 2.05 0 2.83L4 21.41c.39.39.9.59 1.41.59.51 0 1.02-.2 1.41-.59l7.78-7.78 2.81-2.81c.8-.78.8-2.07 0-2.86zM5.41 20L4 18.59l7.72-7.72 1.47 1.35L5.41 20z\"/>\n",
              "  </svg>\n",
              "      </button>\n",
              "      \n",
              "  <style>\n",
              "    .colab-df-container {\n",
              "      display:flex;\n",
              "      flex-wrap:wrap;\n",
              "      gap: 12px;\n",
              "    }\n",
              "\n",
              "    .colab-df-convert {\n",
              "      background-color: #E8F0FE;\n",
              "      border: none;\n",
              "      border-radius: 50%;\n",
              "      cursor: pointer;\n",
              "      display: none;\n",
              "      fill: #1967D2;\n",
              "      height: 32px;\n",
              "      padding: 0 0 0 0;\n",
              "      width: 32px;\n",
              "    }\n",
              "\n",
              "    .colab-df-convert:hover {\n",
              "      background-color: #E2EBFA;\n",
              "      box-shadow: 0px 1px 2px rgba(60, 64, 67, 0.3), 0px 1px 3px 1px rgba(60, 64, 67, 0.15);\n",
              "      fill: #174EA6;\n",
              "    }\n",
              "\n",
              "    [theme=dark] .colab-df-convert {\n",
              "      background-color: #3B4455;\n",
              "      fill: #D2E3FC;\n",
              "    }\n",
              "\n",
              "    [theme=dark] .colab-df-convert:hover {\n",
              "      background-color: #434B5C;\n",
              "      box-shadow: 0px 1px 3px 1px rgba(0, 0, 0, 0.15);\n",
              "      filter: drop-shadow(0px 1px 2px rgba(0, 0, 0, 0.3));\n",
              "      fill: #FFFFFF;\n",
              "    }\n",
              "  </style>\n",
              "\n",
              "      <script>\n",
              "        const buttonEl =\n",
              "          document.querySelector('#df-cc7c7ee3-51a9-4377-a5ec-1c4d11c52ffc button.colab-df-convert');\n",
              "        buttonEl.style.display =\n",
              "          google.colab.kernel.accessAllowed ? 'block' : 'none';\n",
              "\n",
              "        async function convertToInteractive(key) {\n",
              "          const element = document.querySelector('#df-cc7c7ee3-51a9-4377-a5ec-1c4d11c52ffc');\n",
              "          const dataTable =\n",
              "            await google.colab.kernel.invokeFunction('convertToInteractive',\n",
              "                                                     [key], {});\n",
              "          if (!dataTable) return;\n",
              "\n",
              "          const docLinkHtml = 'Like what you see? Visit the ' +\n",
              "            '<a target=\"_blank\" href=https://colab.research.google.com/notebooks/data_table.ipynb>data table notebook</a>'\n",
              "            + ' to learn more about interactive tables.';\n",
              "          element.innerHTML = '';\n",
              "          dataTable['output_type'] = 'display_data';\n",
              "          await google.colab.output.renderOutput(dataTable, element);\n",
              "          const docLink = document.createElement('div');\n",
              "          docLink.innerHTML = docLinkHtml;\n",
              "          element.appendChild(docLink);\n",
              "        }\n",
              "      </script>\n",
              "    </div>\n",
              "  </div>\n",
              "  "
            ]
          },
          "metadata": {},
          "execution_count": 2
        }
      ]
    },
    {
      "cell_type": "code",
      "source": [
        "# Define the training data\n",
        "temp = data.iloc[:, 0].values.reshape(-1, 1)\n",
        "resistance = data.iloc[:, 1].values.reshape(-1, 1)"
      ],
      "metadata": {
        "id": "ptNqgMa6jMpy"
      },
      "execution_count": 3,
      "outputs": []
    },
    {
      "cell_type": "code",
      "source": [
        "# Split the data into training and testing sets\n",
        "num_samples = len(temp)\n",
        "indices = np.random.permutation(num_samples)\n",
        "train_indices = indices[:int(num_samples * 0.8)]\n",
        "test_indices = indices[int(num_samples * 0.8):]\n",
        "train_temp, train_resistance = temp[train_indices], resistance[train_indices]\n",
        "test_temp, test_resistance = temp[test_indices], resistance[test_indices]"
      ],
      "metadata": {
        "id": "pUjvbKZulr3J"
      },
      "execution_count": 4,
      "outputs": []
    },
    {
      "cell_type": "code",
      "source": [
        "# Define the neural network model\n",
        "inputs = tf.keras.layers.Input(shape=(1,))\n",
        "x = tf.keras.layers.Dense(32, activation='relu')(inputs)\n",
        "x = tf.keras.layers.Dense(16, activation='relu')(x)\n",
        "outputs = tf.keras.layers.Dense(1, activation='linear')(x)\n",
        "model = tf.keras.models.Model(inputs=inputs, outputs=outputs)\n"
      ],
      "metadata": {
        "id": "3EIaFOHxjMoI"
      },
      "execution_count": 5,
      "outputs": []
    },
    {
      "cell_type": "code",
      "source": [
        "# Define the loss function and optimizer\n",
        "loss_fn = tf.keras.losses.MeanSquaredError()\n",
        "optimizer = tf.keras.optimizers.Adam(learning_rate=0.01)"
      ],
      "metadata": {
        "id": "utABrCXhjMjk"
      },
      "execution_count": 6,
      "outputs": []
    },
    {
      "cell_type": "code",
      "source": [
        "# Train the model using backpropagation\n",
        "for epoch in range(500):\n",
        "    with tf.GradientTape() as tape:\n",
        "        predictions = model(train_resistance)\n",
        "        loss = loss_fn(train_temp, predictions)\n",
        "    gradients = tape.gradient(loss, model.trainable_variables)\n",
        "    optimizer.apply_gradients(zip(gradients, model.trainable_variables))\n",
        "    if epoch % 50 == 0:\n",
        "        print(f'Epoch {epoch}: Loss={loss.numpy()}')\n"
      ],
      "metadata": {
        "colab": {
          "base_uri": "https://localhost:8080/"
        },
        "id": "2q_ITFzijMiA",
        "outputId": "ac73510b-e67a-4d08-c5bf-1d36811b4549"
      },
      "execution_count": 7,
      "outputs": [
        {
          "output_type": "stream",
          "name": "stdout",
          "text": [
            "Epoch 0: Loss=3198.71875\n",
            "Epoch 50: Loss=2903.002197265625\n",
            "Epoch 100: Loss=1402.51953125\n",
            "Epoch 150: Loss=702.1481323242188\n",
            "Epoch 200: Loss=329.5525207519531\n",
            "Epoch 250: Loss=161.22413635253906\n",
            "Epoch 300: Loss=119.39962768554688\n",
            "Epoch 350: Loss=110.40225219726562\n",
            "Epoch 400: Loss=97.65025329589844\n",
            "Epoch 450: Loss=95.15327453613281\n"
          ]
        }
      ]
    },
    {
      "cell_type": "code",
      "source": [
        "# Evaluate the model on the testing data\n",
        "test_predictions = model.predict(test_resistance)\n",
        "test_loss = loss_fn(test_temp, test_predictions).numpy()\n",
        "print(f'Test loss: {test_loss}')"
      ],
      "metadata": {
        "colab": {
          "base_uri": "https://localhost:8080/"
        },
        "id": "NLUNKYRUmLvv",
        "outputId": "8a34a8d1-06ec-4885-8011-bdd8765f4330"
      },
      "execution_count": 8,
      "outputs": [
        {
          "output_type": "stream",
          "name": "stdout",
          "text": [
            "1/1 [==============================] - 0s 137ms/step\n",
            "Test loss: 117.65966796875\n"
          ]
        }
      ]
    },
    {
      "cell_type": "code",
      "source": [
        "# Print the predicted resistance for the test data\n",
        "print('Predicted Temperature for test data:')\n",
        "for i in range(len(test_resistance)):\n",
        "    print(f'Resistance: {test_resistance[i]}, Predicted Temperature: {test_predictions[i][0]}')"
      ],
      "metadata": {
        "colab": {
          "base_uri": "https://localhost:8080/"
        },
        "id": "Um6k3_y2mOm1",
        "outputId": "e20e490b-df71-4285-c78c-dd15723a70c7"
      },
      "execution_count": 12,
      "outputs": [
        {
          "output_type": "stream",
          "name": "stdout",
          "text": [
            "Predicted Temperature for test data:\n",
            "Resistance: [188.5], Predicted Temperature: -34.139732360839844\n",
            "Resistance: [17.96], Predicted Temperature: 1.1158981323242188\n",
            "Resistance: [12.09], Predicted Temperature: 2.329397201538086\n",
            "Resistance: [33.9], Predicted Temperature: -2.1793594360351562\n",
            "Resistance: [2.228], Predicted Temperature: 80.40522003173828\n",
            "Resistance: [2.588], Predicted Temperature: 76.63277435302734\n",
            "Resistance: [3.02], Predicted Temperature: 72.10584259033203\n"
          ]
        }
      ]
    },
    {
      "cell_type": "code",
      "source": [
        "print(test_resistance.shape)\n",
        "print(test_temp.shape)"
      ],
      "metadata": {
        "colab": {
          "base_uri": "https://localhost:8080/"
        },
        "id": "j-2FOX1yo5Lz",
        "outputId": "133c9c7d-38d3-429b-b6c8-fd9e5c012405"
      },
      "execution_count": 18,
      "outputs": [
        {
          "output_type": "stream",
          "name": "stdout",
          "text": [
            "(7, 1)\n",
            "(7, 1)\n"
          ]
        }
      ]
    },
    {
      "cell_type": "code",
      "source": [
        "test_resistance = np.reshape(test_resistance, (-1,))\n",
        "test_temp = np.reshape(test_temp, (-1,))"
      ],
      "metadata": {
        "id": "wIHyxKzvo8fV"
      },
      "execution_count": 19,
      "outputs": []
    },
    {
      "cell_type": "code",
      "source": [
        "import matplotlib.pyplot as plt\n",
        "\n",
        "# Calculate the slope and intercept of the straight line\n",
        "slope, intercept = np.polyfit(test_resistance, test_temp, 1)\n",
        "\n",
        "# Plot the predicted temperature for the test data as a straight line\n",
        "plt.plot(test_resistance, slope * test_resistance + intercept, 'b-', label='Predicted Temperature')\n",
        "\n",
        "# Plot the actual temperature for the test data\n",
        "plt.plot(test_resistance, test_temp, 'r.', label='Actual Temperature')\n",
        "\n",
        "plt.xlabel('Resistance (Ohms)')\n",
        "plt.ylabel('Temperature (°C)')\n",
        "plt.legend()\n",
        "\n",
        "plt.show()\n"
      ],
      "metadata": {
        "colab": {
          "base_uri": "https://localhost:8080/",
          "height": 449
        },
        "id": "lPzBDwO5n_OL",
        "outputId": "69297ccf-50c7-4040-de55-3b4928bc69b1"
      },
      "execution_count": 20,
      "outputs": [
        {
          "output_type": "display_data",
          "data": {
            "text/plain": [
              "<Figure size 640x480 with 1 Axes>"
            ],
            "image/png": "[encoded data removed]"
          },
          "metadata": {}
        }
      ]
    }
  ]
}